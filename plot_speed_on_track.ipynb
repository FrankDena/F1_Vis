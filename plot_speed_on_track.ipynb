{
  "cells": [
    {
      "cell_type": "markdown",
      "metadata": {},
      "source": [
        "# Speed visualization on track map\n",
        "\n",
        "(Example provided by @JSEHV on Github)\n"
      ]
    },
    {
      "cell_type": "code",
      "execution_count": 35,
      "metadata": {
        "collapsed": false
      },
      "outputs": [],
      "source": [
        "import matplotlib as mpl\n",
        "import numpy as np\n",
        "from matplotlib import pyplot as plt\n",
        "from matplotlib.collections import LineCollection\n",
        "import pandas as pd\n",
        "from scipy.interpolate import splprep, splev\n",
        "\n",
        "\n",
        "import fastf1 as ff1"
      ]
    },
    {
      "cell_type": "markdown",
      "metadata": {},
      "source": [
        "First, we define some variables that allow us to conveniently control what\n",
        "we want to plot.\n",
        "\n"
      ]
    },
    {
      "cell_type": "code",
      "execution_count": 36,
      "metadata": {
        "collapsed": false
      },
      "outputs": [],
      "source": [
        "year = 2024\n",
        "wknd = 5\n",
        "ses = 'R'\n",
        "driver = 'HAM'\n",
        "colormap = mpl.cm.plasma"
      ]
    },
    {
      "cell_type": "markdown",
      "metadata": {},
      "source": [
        "Next, we load the session and select the desired data.\n",
        "\n"
      ]
    },
    {
      "cell_type": "code",
      "execution_count": 37,
      "metadata": {
        "collapsed": false
      },
      "outputs": [
        {
          "name": "stderr",
          "output_type": "stream",
          "text": [
            "core           INFO \tLoading data for Chinese Grand Prix - Race [v3.6.0]\n",
            "req            INFO \tUsing cached data for session_info\n",
            "req            INFO \tUsing cached data for driver_info\n",
            "req            INFO \tUsing cached data for session_status_data\n",
            "req            INFO \tUsing cached data for lap_count\n",
            "req            INFO \tUsing cached data for track_status_data\n",
            "req            INFO \tUsing cached data for _extended_timing_data\n",
            "req            INFO \tUsing cached data for timing_app_data\n",
            "core           INFO \tProcessing timing data...\n",
            "req            INFO \tUsing cached data for car_data\n",
            "req            INFO \tUsing cached data for position_data\n",
            "req            INFO \tUsing cached data for weather_data\n",
            "req            INFO \tUsing cached data for race_control_messages\n",
            "core        WARNING \tDriver 1 completed the race distance 00:08.313000 before the recorded end of the session.\n",
            "core           INFO \tFinished loading data for 20 drivers: ['1', '4', '11', '16', '55', '63', '14', '81', '44', '27', '31', '23', '10', '24', '18', '20', '2', '3', '22', '77']\n"
          ]
        },
        {
          "name": "stdout",
          "output_type": "stream",
          "text": [
            "              X            Y  Number Letter       Angle     Distance\n",
            "0  -5247.443359 -2414.479736       1        -122.954301   571.067594\n",
            "1  -5133.338867  -986.181580       2         -83.202363   736.949073\n",
            "2  -4563.621582 -2055.360596       3          73.790086   878.530221\n",
            "3  -4096.869141 -1006.836670       4          21.782232  1009.149628\n",
            "4  -6014.227051  1311.962524       5        -150.575836  1303.090656\n",
            "5  -6594.757812  3667.179443       6         103.617312  1557.579815\n",
            "6  -3495.405273   611.896423       7          94.161503  2031.086283\n",
            "7  -1413.267456  2477.544678       8         -90.461792  2311.577293\n",
            "8   -166.506866  1202.739990       9          72.105469  2498.067086\n",
            "9    600.005554  1968.239136      10          -5.989765  2611.960606\n",
            "10 -1811.592285  6056.277832      11          75.793997  3072.642177\n",
            "11 -2493.604248  5631.430664      12         -94.047260  3150.344979\n",
            "12 -2345.069824  7168.982422      13         104.391458  3345.611916\n",
            "13  5434.506348 -3601.620361      14         -55.870448  4712.886543\n",
            "14  4727.814941 -3281.814697      15        -131.724366  4790.415562\n",
            "15  2978.087891  -910.569397      16          80.479289  5089.080793\n"
          ]
        }
      ],
      "source": [
        "session = ff1.get_session(year, wknd, ses)\n",
        "weekend = session.event\n",
        "session.load()\n",
        "lap = session.laps.pick_drivers(driver).pick_fastest()\n",
        "tel = lap.get_telemetry()\n",
        "circuit_info = session.get_circuit_info()\n",
        "corners = circuit_info.corners\n",
        "print(corners)\n",
        "dists = corners['Distance'].values\n",
        "\n",
        "# Get telemetry data\n",
        "x = lap.telemetry['X']              # values for x-axis\n",
        "y = lap.telemetry['Y']              # values for y-axis\n",
        "color = lap.telemetry['Speed']      # value to base color gradient on"
      ]
    },
    {
      "cell_type": "code",
      "execution_count": 38,
      "metadata": {},
      "outputs": [],
      "source": [
        "turns = [1, 2, 3, 4]\n",
        "turn = corners[corners['Number'].isin(turns)]\n",
        "\n",
        "\n",
        "# indici nel vettore dists\n",
        "idx_first = corners[corners['Number']==turn.loc[0,'Number']].index[0]\n",
        "idx_last  = corners[corners['Number']==turn.loc[len(turn)-1,'Number']].index[0]\n",
        "\n",
        "d_prev = dists[idx_first-1] if idx_first>0 else 0\n",
        "d0     = dists[idx_first]\n",
        "d_end0 = dists[idx_last]\n",
        "d_next = dists[idx_last+1] if idx_last < len(dists)-1 else tel['Distance'].max()\n",
        "\n",
        "d_start = (d_prev + d0)     / 2\n",
        "d_end   = (d_end0 + d_next) / 2\n",
        "\n",
        "turn_tel = tel.loc[(tel['Distance'] >= d_start) & (tel['Distance'] <= d_end)]\n"
      ]
    },
    {
      "cell_type": "code",
      "execution_count": 39,
      "metadata": {},
      "outputs": [
        {
          "data": {
            "image/png": "[encoded data removed]",
            "text/plain": [
              "<Figure size 600x600 with 1 Axes>"
            ]
          },
          "metadata": {},
          "output_type": "display_data"
        }
      ],
      "source": [
        "brk = turn_tel['Brake'].astype(int)\n",
        "mask_brake_start = brk.diff() == 1\n",
        "brake_pts = turn_tel.loc[mask_brake_start, ['Distance','X','Y']]\n",
        "\n",
        "# Throttle ≤5%→>5%\n",
        "thr = turn_tel['Throttle']\n",
        "mask_accel_start = (thr > 5) & (thr.shift(1) <= 5)\n",
        "accel_pts = turn_tel.loc[mask_accel_start, ['Distance','X','Y']]\n",
        "\n",
        "traj = pd.concat([brake_pts, accel_pts], ignore_index=True)\n",
        "traj = traj.sort_values(by='Distance')\n",
        "\n",
        "tck, u = splprep([traj['X'].values, traj['Y'].values], s=0)\n",
        "u_fine = np.linspace(0, 1, 200)\n",
        "x_smooth, y_smooth = splev(u_fine, tck)\n",
        "\n",
        "fig, ax = plt.subplots(figsize=(6,6))\n",
        "\n",
        "# (A) tracciato di base con il giro più veloce\n",
        "ax.plot(turn_tel['X'], turn_tel['Y'], color='black', linewidth=12, zorder=0)\n",
        "ax.plot(x_smooth, y_smooth, color='blue', linewidth=3, zorder=2)\n",
        "\n",
        "# (B) scatter dei punti per la curva selezionata\n",
        "ax.scatter(brake_pts['X'],  brake_pts['Y'],\n",
        "           c='red',   s=80, label='Inizio frenata',    zorder=1)\n",
        "ax.scatter(accel_pts['X'], accel_pts['Y'],\n",
        "           c='green', s=80, label='Inizio accelerazione', zorder=1)\n",
        "\n",
        "ax.axis('equal')\n",
        "ax.axis('off')\n",
        "ax.legend(loc='upper right', frameon=True)\n",
        "\n",
        "plt.show()"
      ]
    },
    {
      "cell_type": "markdown",
      "metadata": {},
      "source": [
        "Now, we create a set of line segments so that we can color them\n",
        "individually. This creates the points as a N x 1 x 2 array so that we can\n",
        "stack points  together easily to get the segments. The segments array for\n",
        "line collection needs to be (numlines) x (points per line) x 2 (for x and y)\n",
        "\n"
      ]
    },
    {
      "cell_type": "code",
      "execution_count": null,
      "metadata": {
        "collapsed": false
      },
      "outputs": [],
      "source": [
        "points = np.array([x, y]).T.reshape(-1, 1, 2)\n",
        "segments = np.concatenate([points[:-1], points[1:]], axis=1)"
      ]
    },
    {
      "cell_type": "markdown",
      "metadata": {},
      "source": [
        "After this, we can actually plot the data.\n",
        "\n"
      ]
    },
    {
      "cell_type": "code",
      "execution_count": 1,
      "metadata": {
        "collapsed": false
      },
      "outputs": [
        {
          "ename": "NameError",
          "evalue": "name 'plt' is not defined",
          "output_type": "error",
          "traceback": [
            "\u001b[1;31m---------------------------------------------------------------------------\u001b[0m",
            "\u001b[1;31mNameError\u001b[0m                                 Traceback (most recent call last)",
            "Cell \u001b[1;32mIn[1], line 2\u001b[0m\n\u001b[0;32m      1\u001b[0m \u001b[38;5;66;03m# We create a plot with title and adjust some setting to make it look good.\u001b[39;00m\n\u001b[1;32m----> 2\u001b[0m fig, ax \u001b[38;5;241m=\u001b[39m \u001b[43mplt\u001b[49m\u001b[38;5;241m.\u001b[39msubplots(sharex\u001b[38;5;241m=\u001b[39m\u001b[38;5;28;01mTrue\u001b[39;00m, sharey\u001b[38;5;241m=\u001b[39m\u001b[38;5;28;01mTrue\u001b[39;00m, figsize\u001b[38;5;241m=\u001b[39m(\u001b[38;5;241m12\u001b[39m, \u001b[38;5;241m6.75\u001b[39m))\n\u001b[0;32m      3\u001b[0m fig\u001b[38;5;241m.\u001b[39msuptitle(\u001b[38;5;124mf\u001b[39m\u001b[38;5;124m'\u001b[39m\u001b[38;5;132;01m{\u001b[39;00mweekend\u001b[38;5;241m.\u001b[39mname\u001b[38;5;132;01m}\u001b[39;00m\u001b[38;5;124m \u001b[39m\u001b[38;5;132;01m{\u001b[39;00myear\u001b[38;5;132;01m}\u001b[39;00m\u001b[38;5;124m - \u001b[39m\u001b[38;5;132;01m{\u001b[39;00mdriver\u001b[38;5;132;01m}\u001b[39;00m\u001b[38;5;124m - Speed\u001b[39m\u001b[38;5;124m'\u001b[39m, size\u001b[38;5;241m=\u001b[39m\u001b[38;5;241m24\u001b[39m, y\u001b[38;5;241m=\u001b[39m\u001b[38;5;241m0.97\u001b[39m)\n\u001b[0;32m      5\u001b[0m \u001b[38;5;66;03m# Adjust margins and turn of axis\u001b[39;00m\n",
            "\u001b[1;31mNameError\u001b[0m: name 'plt' is not defined"
          ]
        }
      ],
      "source": [
        "# We create a plot with title and adjust some setting to make it look good.\n",
        "fig, ax = plt.subplots(sharex=True, sharey=True, figsize=(12, 6.75))\n",
        "fig.suptitle(f'{weekend.name} {year} - {driver} - Speed', size=24, y=0.97)\n",
        "\n",
        "# Adjust margins and turn of axis\n",
        "plt.subplots_adjust(left=0.1, right=0.9, top=0.9, bottom=0.12)\n",
        "ax.axis('off')\n",
        "\n",
        "\n",
        "# After this, we plot the data itself.\n",
        "# Create background track line\n",
        "ax.plot(lap.telemetry['X'], lap.telemetry['Y'],\n",
        "        color='black', linestyle='-', linewidth=16, zorder=0)\n",
        "\n",
        "# Create a continuous norm to map from data points to colors\n",
        "norm = plt.Normalize(color.min(), color.max())\n",
        "lc = LineCollection(segments, cmap=colormap, norm=norm,\n",
        "                    linestyle='-', linewidth=5)\n",
        "\n",
        "# Set the values used for colormapping\n",
        "lc.set_array(color)\n",
        "\n",
        "# Merge all line segments together\n",
        "line = ax.add_collection(lc)\n",
        "\n",
        "\n",
        "# Finally, we create a color bar as a legend.\n",
        "cbaxes = fig.add_axes([0.25, 0.05, 0.5, 0.05])\n",
        "normlegend = mpl.colors.Normalize(vmin=color.min(), vmax=color.max())\n",
        "legend = mpl.colorbar.ColorbarBase(cbaxes, norm=normlegend, cmap=colormap,\n",
        "                                   orientation=\"horizontal\")\n",
        "\n",
        "\n",
        "# Show the plot\n",
        "plt.show()"
      ]
    }
  ],
  "metadata": {
    "kernelspec": {
      "display_name": "Python 3",
      "language": "python",
      "name": "python3"
    },
    "language_info": {
      "codemirror_mode": {
        "name": "ipython",
        "version": 3
      },
      "file_extension": ".py",
      "mimetype": "text/x-python",
      "name": "python",
      "nbconvert_exporter": "python",
      "pygments_lexer": "ipython3",
      "version": "3.11.9"
    }
  },
  "nbformat": 4,
  "nbformat_minor": 0
}

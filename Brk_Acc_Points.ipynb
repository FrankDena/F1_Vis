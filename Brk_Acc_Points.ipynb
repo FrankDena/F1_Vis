{
 "cells": [
  {
   "cell_type": "markdown",
   "id": "1a4cde6f",
   "metadata": {},
   "source": [
    "Importing Phase"
   ]
  },
  {
   "cell_type": "code",
   "execution_count": 1,
   "id": "d28c0a42",
   "metadata": {},
   "outputs": [],
   "source": [
    "# Imprort necessary libraries\n",
    "\n",
    "import matplotlib as mpl\n",
    "import numpy as np\n",
    "from matplotlib import pyplot as plt\n",
    "from matplotlib.collections import LineCollection\n",
    "import pandas as pd\n",
    "from scipy.interpolate import splprep, splev\n",
    "\n",
    "\n",
    "import fastf1 as ff1"
   ]
  },
  {
   "cell_type": "markdown",
   "id": "ba42c37d",
   "metadata": {},
   "source": [
    "Defining Some Variables"
   ]
  },
  {
   "cell_type": "code",
   "execution_count": 8,
   "id": "5e306960",
   "metadata": {},
   "outputs": [],
   "source": [
    "year = 2024\n",
    "wknd = 5\n",
    "ses = 'R'\n",
    "driver = 'HAM'"
   ]
  },
  {
   "cell_type": "markdown",
   "id": "15a18d83",
   "metadata": {},
   "source": [
    "Loading the Session and Exctracting Some Data"
   ]
  },
  {
   "cell_type": "code",
   "execution_count": 10,
   "id": "ec9f0367",
   "metadata": {},
   "outputs": [
    {
     "name": "stderr",
     "output_type": "stream",
     "text": [
      "core           INFO \tLoading data for Chinese Grand Prix - Race [v3.6.0]\n",
      "req            INFO \tUsing cached data for session_info\n",
      "req            INFO \tUsing cached data for driver_info\n"
     ]
    },
    {
     "name": "stdout",
     "output_type": "stream",
     "text": [
      "Session: \n",
      "\n",
      "2024 Season Round 5: Chinese Grand Prix - Race\n",
      "weekend: \n",
      "\n",
      "RoundNumber                                                 5\n",
      "Country                                                 China\n",
      "Location                                             Shanghai\n",
      "OfficialEventName    FORMULA 1 LENOVO CHINESE GRAND PRIX 2024\n",
      "EventDate                                 2024-04-21 00:00:00\n",
      "EventName                                  Chinese Grand Prix\n",
      "EventFormat                                 sprint_qualifying\n",
      "Session1                                           Practice 1\n",
      "Session1Date                        2024-04-19 11:30:00+08:00\n",
      "Session1DateUtc                           2024-04-19 03:30:00\n",
      "Session2                                    Sprint Qualifying\n",
      "Session2Date                        2024-04-19 15:30:00+08:00\n",
      "Session2DateUtc                           2024-04-19 07:30:00\n",
      "Session3                                               Sprint\n",
      "Session3Date                        2024-04-20 11:00:00+08:00\n",
      "Session3DateUtc                           2024-04-20 03:00:00\n",
      "Session4                                           Qualifying\n",
      "Session4Date                        2024-04-20 15:00:00+08:00\n",
      "Session4DateUtc                           2024-04-20 07:00:00\n",
      "Session5                                                 Race\n",
      "Session5Date                        2024-04-21 15:00:00+08:00\n",
      "Session5DateUtc                           2024-04-21 07:00:00\n",
      "F1ApiSupport                                             True\n",
      "Name: 5, dtype: object\n"
     ]
    },
    {
     "name": "stderr",
     "output_type": "stream",
     "text": [
      "req            INFO \tUsing cached data for session_status_data\n",
      "req            INFO \tUsing cached data for lap_count\n",
      "req            INFO \tUsing cached data for track_status_data\n",
      "req            INFO \tUsing cached data for _extended_timing_data\n",
      "req            INFO \tUsing cached data for timing_app_data\n",
      "core           INFO \tProcessing timing data...\n",
      "req            INFO \tUsing cached data for car_data\n",
      "req            INFO \tUsing cached data for position_data\n",
      "req            INFO \tUsing cached data for weather_data\n",
      "req            INFO \tUsing cached data for race_control_messages\n",
      "core        WARNING \tDriver 1 completed the race distance 00:08.313000 before the recorded end of the session.\n",
      "core           INFO \tFinished loading data for 20 drivers: ['1', '4', '11', '16', '55', '63', '14', '81', '44', '27', '31', '23', '10', '24', '18', '20', '2', '3', '22', '77']\n"
     ]
    },
    {
     "name": "stdout",
     "output_type": "stream",
     "text": [
      "Lap: \n",
      "\n",
      "Time                      0 days 01:59:59.885000\n",
      "Driver                                       HAM\n",
      "DriverNumber                                  44\n",
      "LapTime                   0 days 00:01:40.835000\n",
      "LapNumber                                   34.0\n",
      "Stint                                        3.0\n",
      "PitOutTime                                   NaT\n",
      "PitInTime                                    NaT\n",
      "Sector1Time               0 days 00:00:26.615000\n",
      "Sector2Time               0 days 00:00:30.525000\n",
      "Sector3Time               0 days 00:00:43.695000\n",
      "Sector1SessionTime        0 days 01:58:45.692000\n",
      "Sector2SessionTime        0 days 01:59:16.217000\n",
      "Sector3SessionTime        0 days 01:59:59.912000\n",
      "SpeedI1                                    276.0\n",
      "SpeedI2                                    270.0\n",
      "SpeedFL                                    259.0\n",
      "SpeedST                                    332.0\n",
      "IsPersonalBest                              True\n",
      "Compound                                    HARD\n",
      "TyreLife                                    13.0\n",
      "FreshTyre                                   True\n",
      "Team                                    Mercedes\n",
      "LapStartTime              0 days 01:58:19.050000\n",
      "LapStartDate          2024-04-21 08:06:37.723000\n",
      "TrackStatus                                    1\n",
      "Position                                    10.0\n",
      "Deleted                                    False\n",
      "DeletedReason                                   \n",
      "FastF1Generated                            False\n",
      "IsAccurate                                  True\n",
      "Name: 821, dtype: object\n",
      "Telemetry: \n",
      "\n",
      "                       Date            SessionTime DriverAhead  \\\n",
      "2   2024-04-21 08:06:37.723 0 days 01:58:19.050000               \n",
      "3   2024-04-21 08:06:37.850 0 days 01:58:19.177000               \n",
      "4   2024-04-21 08:06:37.963 0 days 01:58:19.290000               \n",
      "5   2024-04-21 08:06:38.090 0 days 01:58:19.417000          27   \n",
      "6   2024-04-21 08:06:38.162 0 days 01:58:19.489000          27   \n",
      "..                      ...                    ...         ...   \n",
      "740 2024-04-21 08:08:18.103 0 days 01:59:59.430000          27   \n",
      "741 2024-04-21 08:08:18.330 0 days 01:59:59.657000          27   \n",
      "742 2024-04-21 08:08:18.383 0 days 01:59:59.710000          27   \n",
      "743 2024-04-21 08:08:18.490 0 days 01:59:59.817000          27   \n",
      "744 2024-04-21 08:08:18.558 0 days 01:59:59.885000          27   \n",
      "\n",
      "     DistanceToDriverAhead                   Time           RPM       Speed  \\\n",
      "2                53.012222        0 days 00:00:00  11013.108495  267.825005   \n",
      "3                53.012222 0 days 00:00:00.127000  11120.000000  271.000000   \n",
      "4                53.012222 0 days 00:00:00.240000  11188.270949  271.941668   \n",
      "5                53.012222 0 days 00:00:00.367000  11265.000000  273.000000   \n",
      "6                53.132222 0 days 00:00:00.439000  11312.160000  274.080000   \n",
      "..                     ...                    ...           ...         ...   \n",
      "740              66.988056 0 days 00:01:40.380000  10632.664397  258.946432   \n",
      "741              67.429444 0 days 00:01:40.607000  10764.000000  263.000000   \n",
      "742              67.532500 0 days 00:01:40.660000  10794.143859  263.662502   \n",
      "743              67.740556 0 days 00:01:40.767000  10855.000000  265.000000   \n",
      "744              67.740556 0 days 00:01:40.835000  10927.080271  266.360005   \n",
      "\n",
      "     nGear  Throttle  Brake  DRS         Source     Distance  \\\n",
      "2        7     100.0  False   12  interpolation     0.172939   \n",
      "3        7     100.0  False   12            car     9.748611   \n",
      "4        7     100.0  False   12            pos    18.298092   \n",
      "5        7     100.0  False   12            car    27.948611   \n",
      "6        7     100.0  False   12            pos    33.444115   \n",
      "..     ...       ...    ...  ...            ...          ...   \n",
      "740      7     100.0  False   12            pos  5345.424974   \n",
      "741      7     100.0  False   12            car  5362.030833   \n",
      "742      7     100.0  False   12            pos  5365.922310   \n",
      "743      7     100.0  False   12            car  5373.808611   \n",
      "744      7     100.0  False   12  interpolation  5378.858726   \n",
      "\n",
      "     RelativeDistance   Status           X            Y           Z  \n",
      "2            0.000032  OnTrack  205.405347 -1458.231963  139.999991  \n",
      "3            0.001809  OnTrack  126.668795 -1476.742856  139.999989  \n",
      "4            0.003396  OnTrack   38.000000 -1499.000000  140.000000  \n",
      "5            0.005186  OnTrack  -80.998017 -1530.061598  140.000023  \n",
      "6            0.006206  OnTrack -142.000000 -1546.000000  140.000000  \n",
      "..                ...      ...         ...          ...         ...  \n",
      "740          0.991960  OnTrack  529.000000 -1384.000000  141.000000  \n",
      "741          0.995041  OnTrack  365.617709 -1420.989413  140.196281  \n",
      "742          0.995763  OnTrack  331.000000 -1429.000000  140.000000  \n",
      "743          0.997227  OnTrack  260.300387 -1445.647291  139.750162  \n",
      "744          0.998164  OnTrack  214.798391 -1456.558905  139.693398  \n",
      "\n",
      "[743 rows x 18 columns]\n",
      "Corners: \n",
      "\n",
      "              X            Y  Number Letter       Angle     Distance\n",
      "0  -5247.443359 -2414.479736       1        -122.954301   571.067594\n",
      "1  -5133.338867  -986.181580       2         -83.202363   736.949073\n",
      "2  -4563.621582 -2055.360596       3          73.790086   878.530221\n",
      "3  -4096.869141 -1006.836670       4          21.782232  1009.149628\n",
      "4  -6014.227051  1311.962524       5        -150.575836  1303.090656\n",
      "5  -6594.757812  3667.179443       6         103.617312  1557.579815\n",
      "6  -3495.405273   611.896423       7          94.161503  2031.086283\n",
      "7  -1413.267456  2477.544678       8         -90.461792  2311.577293\n",
      "8   -166.506866  1202.739990       9          72.105469  2498.067086\n",
      "9    600.005554  1968.239136      10          -5.989765  2611.960606\n",
      "10 -1811.592285  6056.277832      11          75.793997  3072.642177\n",
      "11 -2493.604248  5631.430664      12         -94.047260  3150.344979\n",
      "12 -2345.069824  7168.982422      13         104.391458  3345.611916\n",
      "13  5434.506348 -3601.620361      14         -55.870448  4712.886543\n",
      "14  4727.814941 -3281.814697      15        -131.724366  4790.415562\n",
      "15  2978.087891  -910.569397      16          80.479289  5089.080793\n"
     ]
    }
   ],
   "source": [
    "# Load the session and the weekend\n",
    "session = ff1.get_session(year, wknd, ses)\n",
    "print(\"Session: \\n\")\n",
    "print(session)\n",
    "weekend = session.event\n",
    "print(\"weekend: \\n\")\n",
    "print(weekend)\n",
    "session.load()\n",
    "\n",
    "# Extract the fastest lap and telemetry data\n",
    "print(\"Lap: \\n\")\n",
    "lap = session.laps.pick_drivers(driver).pick_fastest()\n",
    "print(lap)\n",
    "tel = lap.get_telemetry()\n",
    "print(\"Telemetry: \\n\")\n",
    "print(tel)\n",
    "circuit_info = session.get_circuit_info()\n",
    "corners = circuit_info.corners\n",
    "print(\"Corners: \\n\")\n",
    "print(corners)"
   ]
  },
  {
   "cell_type": "markdown",
   "id": "8b7a664d",
   "metadata": {},
   "source": [
    "Extracting the Data for Turns"
   ]
  },
  {
   "cell_type": "code",
   "execution_count": 11,
   "id": "32b4a205",
   "metadata": {},
   "outputs": [],
   "source": [
    "# Extract distances for each corner, expressed in distance from the start of the lap\n",
    "dists = corners['Distance'].values\n",
    "\n",
    "# Define the turns of interest\n",
    "turns = [1, 2, 3, 4]\n",
    "turn = corners[corners['Number'].isin(turns)]\n",
    "\n",
    "\n",
    "# Extract the index of the first and last corner in the turn\n",
    "if not turn.empty:\n",
    "    idx_first = corners[corners['Number']==turn.loc[0,'Number']].index[0]\n",
    "    idx_last  = corners[corners['Number']==turn.loc[len(turn)-1,'Number']].index[0]\n",
    "else:\n",
    "    print(\"No turns found in the specified range.\")\n",
    "    exit()\n",
    "\n",
    "# Extract the distances for the first and last corner in the turn\n",
    "d_prev = dists[idx_first-1] if idx_first>0 else 0\n",
    "d0     = dists[idx_first]\n",
    "d_end0 = dists[idx_last]\n",
    "d_next = dists[idx_last+1] if idx_last < len(dists)-1 else tel['Distance'].max()\n",
    "\n",
    "# Calculate the start and end distances for the turn\n",
    "# Use the average of the previous and next corner distances to define the turn boundaries\n",
    "d_start = (d_prev + d0)     / 2\n",
    "d_end   = (d_end0 + d_next) / 2\n",
    "\n",
    "# Extract the telemetry data for the turn, filtered by distance\n",
    "turn_tel = tel.loc[(tel['Distance'] >= d_start) & (tel['Distance'] <= d_end)]"
   ]
  },
  {
   "cell_type": "markdown",
   "id": "310b437c",
   "metadata": {},
   "source": [
    "Plotting the Brake Points and the Acceleration Points for the Fastest Lap of the Circuit"
   ]
  },
  {
   "cell_type": "code",
   "execution_count": 15,
   "id": "d596fdd0",
   "metadata": {},
   "outputs": [
    {
     "data": {
      "image/png": "[encoded data removed]",
      "text/plain": [
       "<Figure size 600x600 with 1 Axes>"
      ]
     },
     "metadata": {},
     "output_type": "display_data"
    }
   ],
   "source": [
    "# Extract the brake and acceleration points\n",
    "brk = turn_tel['Brake'].astype(int)\n",
    "# Identifies the start of braking as the point where the brake value changes from 0 to 1\n",
    "mask_brake_start = brk.diff() == 1\n",
    "# Get the coordinates of the braking points using a boolean mask\n",
    "brake_pts = turn_tel.loc[mask_brake_start, ['X','Y']]\n",
    "\n",
    "# Throttle ≤5%→>5%\n",
    "thr = turn_tel['Throttle']\n",
    "# Identifies the start of acceleration as the point where the throttle value changes from ≤5% to >5% (arbitrary threshold)\n",
    "mask_accel_start = (thr > 5) & (thr.shift(1) <= 5)\n",
    "# Get the coordinates of the acceleration points using a boolean mask\n",
    "accel_pts = turn_tel.loc[mask_accel_start, ['X','Y']]\n",
    "\n",
    "\n",
    "fig, ax = plt.subplots(figsize=(6,6))\n",
    "fig.suptitle(f\"{driver} - {weekend.EventName} - {session.event.year} - {ses} - Turn {turn.loc[0,'Number']}\")\n",
    "\n",
    "# (A) tracciato di base con il giro più veloce\n",
    "ax.plot(turn_tel['X'], turn_tel['Y'], color='black', linewidth=12, zorder=0)\n",
    "\n",
    "\n",
    "# (B) scatter dei punti per la curva selezionata\n",
    "ax.scatter(brake_pts['X'],  brake_pts['Y'],\n",
    "           c='red',   s=80, label='Inizio frenata',    zorder=1)\n",
    "ax.scatter(accel_pts['X'], accel_pts['Y'],\n",
    "           c='green', s=80, label='Inizio accelerazione', zorder=1)\n",
    "\n",
    "ax.axis('equal')\n",
    "ax.axis('off')\n",
    "ax.legend(loc='upper right', frameon=True)\n",
    "\n",
    "plt.show()"
   ]
  }
 ],
 "metadata": {
  "kernelspec": {
   "display_name": "Python 3",
   "language": "python",
   "name": "python3"
  },
  "language_info": {
   "codemirror_mode": {
    "name": "ipython",
    "version": 3
   },
   "file_extension": ".py",
   "mimetype": "text/x-python",
   "name": "python",
   "nbconvert_exporter": "python",
   "pygments_lexer": "ipython3",
   "version": "3.11.9"
  }
 },
 "nbformat": 4,
 "nbformat_minor": 5
}
